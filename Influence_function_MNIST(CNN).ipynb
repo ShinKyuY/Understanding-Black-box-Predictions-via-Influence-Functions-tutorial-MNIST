{
  "nbformat": 4,
  "nbformat_minor": 0,
  "metadata": {
    "colab": {
      "name": "Influence_function_MNIST(CNN).ipynb",
      "provenance": [],
      "collapsed_sections": []
    },
    "kernelspec": {
      "name": "python3",
      "display_name": "Python 3"
    },
    "accelerator": "GPU"
  },
  "cells": [
    {
      "cell_type": "code",
      "metadata": {
        "id": "drio6jhUs0Vw",
        "colab_type": "code",
        "colab": {}
      },
      "source": [
        "import tensorflow as tf\n",
        "from IPython.display import Image\n",
        "from tensorflow.python.framework import ops\n",
        "from tensorflow.python.ops import array_ops\n",
        "from tensorflow.python.ops import math_ops\n",
        "import time\n",
        "import numpy as np\n",
        "import matplotlib.pyplot as plt\n",
        "from tensorflow.examples.tutorials.mnist import input_data\n"
      ],
      "execution_count": 0,
      "outputs": []
    },
    {
      "cell_type": "code",
      "metadata": {
        "id": "6Gt3ZYiXLDxa",
        "colab_type": "code",
        "colab": {}
      },
      "source": [
        "(X_train, Y_train), (X_test, Y_test) = tf.keras.datasets.mnist.load_data()"
      ],
      "execution_count": 0,
      "outputs": []
    },
    {
      "cell_type": "code",
      "metadata": {
        "id": "r8-FG_mYLPcn",
        "colab_type": "code",
        "colab": {}
      },
      "source": [
        "def one_hot(x, zero_index=True):\n",
        "    if zero_index:\n",
        "        return np.eye(max(x)+1)[x]\n",
        "    else:\n",
        "        return np.eye(max(x))[x]\n",
        "def normalize(x):\n",
        "    return (x.astype(np.float32) - 127.5)/127.5"
      ],
      "execution_count": 0,
      "outputs": []
    },
    {
      "cell_type": "code",
      "metadata": {
        "id": "SVpzwX1Os0Vz",
        "colab_type": "code",
        "colab": {}
      },
      "source": [
        "X_train = normalize(X_train)\n",
        "X_test = normalize(X_test)\n",
        "X_train = np.expand_dims(X_train, -1)\n",
        "X_test = np.expand_dims(X_test, -1)"
      ],
      "execution_count": 0,
      "outputs": []
    },
    {
      "cell_type": "code",
      "metadata": {
        "id": "LEVlWH9QLDL6",
        "colab_type": "code",
        "outputId": "cb5dc90e-6716-411f-b88e-ad2f9a399824",
        "colab": {
          "base_uri": "https://localhost:8080/",
          "height": 90
        }
      },
      "source": [
        "Y_train = one_hot(Y_train)\n",
        "Y_test = one_hot(Y_test)\n",
        "# X_train = X_train.reshape((-1, 784))\n",
        "# X_test = X_test.reshape((-1, 784))\n",
        "print('X_train shape:', X_train.shape)\n",
        "print('Y_train shape:', Y_train.shape)\n",
        "print('X_test shape:', X_test.shape)\n",
        "print('Y_test shape:', Y_test.shape)"
      ],
      "execution_count": 118,
      "outputs": [
        {
          "output_type": "stream",
          "text": [
            "X_train shape: (60000, 28, 28, 1)\n",
            "Y_train shape: (60000, 10)\n",
            "X_test shape: (10000, 28, 28, 1)\n",
            "Y_test shape: (10000, 10)\n"
          ],
          "name": "stdout"
        }
      ]
    },
    {
      "cell_type": "code",
      "metadata": {
        "id": "06WqBHVPs0V4",
        "colab_type": "code",
        "colab": {}
      },
      "source": [
        "def smooth_hinge_loss(logits, labels, t=1e-3, dty=tf.float64):\n",
        "    margin=tf.multiply(tf.cast(labels, dtype=dty), logits) \n",
        "    exponents = (1-margin)/t\n",
        "    max_elems = tf.maximum(exponents, tf.zeros_like(exponents))\n",
        "    log_loss= t * (max_elems + tf.log(tf.exp(exponents - max_elems) \n",
        "                                      + tf.exp(tf.zeros_like(exponents) - max_elems)))\n",
        "    return tf.reduce_mean(log_loss) \n",
        "\n",
        "\n",
        "\n",
        "\n",
        "def hinge_loss(logits, labels, dty=tf.float64):\n",
        "    margin=tf.multiply(tf.cast(labels, dtype=dty), logits) \n",
        "    log_loss= tf.maximum(tf.constant(0,dtype=dty), 1-margin)\n",
        "    return tf.reduce_mean(log_loss) \n",
        "\n",
        "\n",
        "def accuracy_op(logits, labels):\n",
        "    correct_prediction = tf.equal(tf.cast(tf.argmax(logits, 1), tf.int32), tf.cast(tf.argmax(labels, 1), tf.int32))\n",
        "    accuracy = tf.reduce_sum(tf.cast(correct_prediction, tf.int32))\n",
        "    return accuracy\n",
        "\n",
        "def hessian_vector_product(ys, xs, v):\n",
        "    # Validate the input\n",
        "    length = len(xs)\n",
        "    if len(v) != length:\n",
        "      raise ValueError(\"xs and v must have the same length.\")\n",
        "\n",
        "    # First backprop\n",
        "    grads = tf.gradients(ys, xs)\n",
        "\n",
        "    # grads = xs\n",
        "\n",
        "    assert len(grads) == length\n",
        "\n",
        "    elemwise_products = [\n",
        "        math_ops.multiply(grad_elem, array_ops.stop_gradient(v_elem))\n",
        "        for grad_elem, v_elem in zip(grads, v) if grad_elem is not None\n",
        "    ]\n",
        "\n",
        "    # Second backprop  \n",
        "    grads_with_none = tf.gradients(elemwise_products, xs)\n",
        "    return_grads = [\n",
        "        grad_elem if grad_elem is not None \\\n",
        "        else tf.zeros_like(x) \\\n",
        "        for x, grad_elem in zip(xs, grads_with_none)]\n",
        "    \n",
        "    return return_grads"
      ],
      "execution_count": 0,
      "outputs": []
    },
    {
      "cell_type": "code",
      "metadata": {
        "id": "glGiB7VwynPL",
        "colab_type": "code",
        "colab": {}
      },
      "source": [
        "def conv2d(x, W, r):\n",
        "    # convolve through reflect padding\n",
        "    p = (W.shape[0] - 1) // 2\n",
        "    x = tf.pad(x, [[0,0],[p,p],[p,p],[0,0]], 'REFLECT')\n",
        "    return tf.nn.conv2d(x, W, strides=[1, r, r, 1], padding='VALID')"
      ],
      "execution_count": 0,
      "outputs": []
    },
    {
      "cell_type": "code",
      "metadata": {
        "id": "00jZgWFJnskj",
        "colab_type": "code",
        "colab": {}
      },
      "source": [
        "def log_softmax_CE(L, y):\n",
        "    # calculate loss for the loss function and L2 regularizer\n",
        "    L_max = tf.reduce_max(L, axis = 1, keepdims = True)\n",
        "    L = L-L_max\n",
        "    # compute log softmax\n",
        "    A = tf.log(tf.reduce_sum(tf.exp(L), axis = 1))\n",
        "    B = tf.reduce_sum(L*y, axis=1)\n",
        "    loss = tf.reduce_sum(A-B)\n",
        "    return loss"
      ],
      "execution_count": 0,
      "outputs": []
    },
    {
      "cell_type": "code",
      "metadata": {
        "id": "7czksjpVwfD6",
        "colab_type": "code",
        "colab": {}
      },
      "source": [
        "def hessians(ys, xs, name=\"hessians\", colocate_gradients_with_ops=False, \n",
        "            gate_gradients=False, aggregation_method=None):\n",
        "  def _AsList(x):\n",
        "      return x if isinstance(x, (list, tuple)) else [x]\n",
        "\n",
        "  xs = _AsList(xs)\n",
        "  kwargs = {\n",
        "      'colocate_gradients_with_ops': colocate_gradients_with_ops,\n",
        "      'gate_gradients': gate_gradients,\n",
        "      'aggregation_method': aggregation_method\n",
        "    }\n",
        "  # Compute a hessian matrix for each x in xs\n",
        "  hessians = []\n",
        "  for i, x in enumerate(xs):\n",
        "    # Check dimensions\n",
        "    ndims = x.get_shape().ndims\n",
        "    if ndims is None:\n",
        "      raise ValueError('Cannot compute Hessian because the dimensionality of '\n",
        "                       'element number %d of `xs` cannot be determined' % i)\n",
        "    elif ndims != 1:\n",
        "      raise ValueError('Computing hessians is currently only supported for '\n",
        "                       'one-dimensional tensors. Element number %d of `xs` has '\n",
        "                       '%d dimensions.' % (i, ndims))\n",
        "    with ops.name_scope(name + '_first_derivative'):\n",
        "      # Compute the partial derivatives of the input with respect to all \n",
        "      # elements of `x`\n",
        "      _gradients = tf.gradients(ys, x, **kwargs)[0]\n",
        "      # Unpack the gradients into a list so we can take derivatives with \n",
        "      # respect to each element\n",
        "      _gradients = array_ops.unpack(_gradients, num=10240)\n",
        "    with ops.name_scope(name + '_second_derivative'):\n",
        "      # Compute the partial derivatives with respect to each element of the list\n",
        "      _hess = [tf.gradients(_gradient, x, **kwargs)[0] for _gradient in _gradients]\n",
        "      # Pack the list into a matrix and add to the list of hessians\n",
        "      hessians.append(array_ops.pack(_hess, name=name))\n",
        "  return hessians"
      ],
      "execution_count": 0,
      "outputs": []
    },
    {
      "cell_type": "markdown",
      "metadata": {
        "id": "A2GJ3mmUyrFh",
        "colab_type": "text"
      },
      "source": [
        "## Tensorflow hessian (tf.hessian) is not a exact hessians"
      ]
    },
    {
      "cell_type": "code",
      "metadata": {
        "id": "i8_JoVgqcj_z",
        "colab_type": "code",
        "colab": {}
      },
      "source": [
        "tf.reset_default_graph()\n",
        "nb_clases=10\n",
        "dty=tf.float32\n",
        "scale_hess=1e0\n",
        "damping=1e-2\n",
        "batch=len(X_test)//512\n",
        "\n",
        "w1=tf.get_variable('w1', [3*3*1*64], initializer=tf.truncated_normal_initializer(stddev=1.0/np.math.sqrt(float(3*3*1*64)), dtype=dty))\n",
        "w2=tf.get_variable('w2', [3*3*64*64], initializer=tf.truncated_normal_initializer(stddev=1.0/np.math.sqrt(float(3*3*64*64)), dtype=dty))\n",
        "w3=tf.get_variable('w3', [3*3*64*64], initializer=tf.truncated_normal_initializer(stddev=1.0/np.math.sqrt(float(3*3*64*64)), dtype=dty))\n",
        "w4=tf.get_variable('w4', [4*4*64*10], initializer=tf.truncated_normal_initializer(stddev=1.0/np.math.sqrt(float(4*4*64*10)), dtype=dty))\n",
        "# params=[w1, w2, w3, w4]\n",
        "params=[w4]\n",
        "v_cur_est = [tf.placeholder(dty, shape=(param.shape[0])) for param in params]\n",
        "####################### Layer ######################\n",
        "X = tf.placeholder(dty, [None, 28, 28, 1],name=\"X\")\n",
        "Y = tf.placeholder(dty,[None, nb_clases],name=\"Y\")\n",
        "L = conv2d(X, tf.reshape(w1, [3,3,1,64]), 2)\n",
        "L = tf.nn.elu(L)\n",
        "L = conv2d(L, tf.reshape(w2, [3,3,64,64]), 2)\n",
        "L = tf.nn.elu(L)\n",
        "L = conv2d(L, tf.reshape(w3, [3,3,64,64]), 2)\n",
        "L = tf.nn.elu(L)\n",
        "L = tf.reshape(L, [-1, 4*4*64])\n",
        "L = tf.matmul(L, tf.reshape(w4, [4*4*64, 10]))\n",
        "prob = tf.nn.log_softmax(L)\n",
        "###################################################\n",
        "####################### Loss ######################\n",
        "lossL2 = damping*tf.add_n([tf.nn.l2_loss(param) for param in params])\n",
        "loss = log_softmax_CE(L, Y)\n",
        "total_loss = loss + lossL2\n",
        "grad = tf.gradients(total_loss, params)\n",
        "test_grad = tf.gradients(loss, params)\n",
        "hessian_vector_val=hessian_vector_product(total_loss, params, v_cur_est)\n",
        "########################  H inverse ######################## \n",
        "################################################\n",
        "train_op = tf.train.AdamOptimizer(1e-2).minimize(total_loss)\n",
        "accuracy=accuracy_op(L, Y)\n",
        "sess=tf.Session()\n",
        "sess.run(tf.global_variables_initializer())"
      ],
      "execution_count": 0,
      "outputs": []
    },
    {
      "cell_type": "code",
      "metadata": {
        "id": "G5x9SJCqb8pv",
        "colab_type": "code",
        "outputId": "bd36f735-34c2-4c26-c355-e7bde5c6e995",
        "colab": {
          "base_uri": "https://localhost:8080/",
          "height": 72
        }
      },
      "source": [
        "for epoch in range(151):\n",
        "    for i in range(batch):\n",
        "        batch_xs, batch_ys = X_train[i*512:(i+1)*512], Y_train[i*512:(i+1)*512]\n",
        "        _=sess.run(train_op, feed_dict={X:batch_xs, Y:batch_ys})  \n",
        "    if epoch%50==0 and epoch>0:\n",
        "        c = sess.run(accuracy, feed_dict={X:batch_xs, Y:batch_ys})\n",
        "        a = sess.run(accuracy, feed_dict={X:X_test, Y:Y_test})\n",
        "        print(' Train accuracy: ',c/len(batch_xs), 'Test accuracy: ',a/len(X_test), )\n"
      ],
      "execution_count": 212,
      "outputs": [
        {
          "output_type": "stream",
          "text": [
            " Train accuracy:  1.0 Test accuracy:  0.9701\n",
            " Train accuracy:  1.0 Test accuracy:  0.9699\n",
            " Train accuracy:  1.0 Test accuracy:  0.9703\n"
          ],
          "name": "stdout"
        }
      ]
    },
    {
      "cell_type": "markdown",
      "metadata": {
        "id": "9CDI_lQLKV0g",
        "colab_type": "text"
      },
      "source": [
        "# IHVP "
      ]
    },
    {
      "cell_type": "markdown",
      "metadata": {
        "id": "PtqlLjXTKi6o",
        "colab_type": "text"
      },
      "source": [
        "## Numpy direct IHVP"
      ]
    },
    {
      "cell_type": "code",
      "metadata": {
        "id": "l6169p4mLvCx",
        "colab_type": "code",
        "outputId": "0b11bc4d-a4da-4571-a19c-ce1705f7e7bd",
        "colab": {
          "base_uri": "https://localhost:8080/",
          "height": 35
        }
      },
      "source": [
        "test_index=191\n",
        "z_test=X_test[test_index].reshape((1,28,28,1))\n",
        "z_test_label=Y_test[test_index].reshape((1,10))\n",
        "# test_val=sess.run(grad, feed_dict={X:z_test, Y:z_test_label})\n",
        "test_val=sess.run(test_grad, feed_dict={X:z_test, Y:z_test_label})\n",
        "print('Norm of test gradient: %s' % np.linalg.norm(np.concatenate(test_val)))"
      ],
      "execution_count": 213,
      "outputs": [
        {
          "output_type": "stream",
          "text": [
            "Norm of test gradient: 0.016960125\n"
          ],
          "name": "stdout"
        }
      ]
    },
    {
      "cell_type": "code",
      "metadata": {
        "id": "I0LzpStk5wyK",
        "colab_type": "code",
        "outputId": "97f6220e-656f-423d-b5a3-6df4b4046a17",
        "colab": {
          "base_uri": "https://localhost:8080/",
          "height": 265
        }
      },
      "source": [
        "plt.imshow(X_test[test_index].reshape(28,28),cmap='Greys',interpolation='nearest')\n",
        "plt.show()"
      ],
      "execution_count": 214,
      "outputs": [
        {
          "output_type": "display_data",
          "data": {
            "image/png": "[encoded data removed]",
            "text/plain": [
              "<Figure size 432x288 with 1 Axes>"
            ]
          },
          "metadata": {
            "tags": []
          }
        }
      ]
    },
    {
      "cell_type": "markdown",
      "metadata": {
        "id": "LsuM-AsHKleB",
        "colab_type": "text"
      },
      "source": [
        "## HVPs+Lissa"
      ]
    },
    {
      "cell_type": "code",
      "metadata": {
        "colab_type": "code",
        "id": "ue6Jp2gHu0UA",
        "colab": {}
      },
      "source": [
        "def get_inverse_hvp_lissa(sess, v, x, y, v_cur_est, hessian_vector_val, batch_size=None, \n",
        "                          scale=10, damping=0.0, recursion_depth=10000, tolerance=1e-3):\n",
        "    \"\"\"\n",
        "    This uses mini-batching; uncomment code for the single sample case.\n",
        "    \"\"\"    \n",
        "    inverse_hvp = None\n",
        "    print_iter = recursion_depth / 10 \n",
        "    cur_estimate = v\n",
        "    prev = np.linalg.norm(np.concatenate(cur_estimate))\n",
        "    start_time = time.time()\n",
        "    for i in range(recursion_depth):\n",
        "        r=np.random.choice(len(X_train), size=[batch_size],  replace=False)\n",
        "        batch_xs = x[r]\n",
        "        batch_ys = y[r]\n",
        "        for j in range(batch_size):\n",
        "            feed_dict = {place:cur for place, cur in zip(v_cur_est, cur_estimate)}\n",
        "            hvp = sess.run(hessian_vector_val, feed_dict={X:batch_xs[j:j+1], Y:batch_ys[j:j+1], **feed_dict})\n",
        "            cur_estimate = [a + (1-damping/scale) * b - c/scale for (a,b,c) in zip(v, cur_estimate, hvp)]    \n",
        "        con=np.concatenate(cur_estimate)\n",
        "        cur_norm = np.linalg.norm(con)\n",
        "        if (i % print_iter ==0) or (i == recursion_depth - 1):\n",
        "            print(v[0][0], hvp[0][0], cur_estimate[0][0])\n",
        "            duration = time.time() - start_time\n",
        "            print(\"Recursion at depth %s: norm is %.8lf\" % (i, cur_norm))\n",
        "\n",
        "        if inverse_hvp is None:\n",
        "            inverse_hvp = [b/scale for b in cur_estimate]\n",
        "        else:\n",
        "            inverse_hvp = [a + b/scale for (a, b) in zip(inverse_hvp, cur_estimate)]  \n",
        "        if np.abs(cur_norm - prev)<tolerance:\n",
        "            print(' ## Early stopping criteria reached')\n",
        "            break\n",
        "        prev = cur_norm\n",
        "    print('Computing Inverse HVP took %s minute %s sec' %(duration//60, duration%60))\n",
        "    inverse_hvp = [a for a in inverse_hvp]\n",
        "    return inverse_hvp"
      ],
      "execution_count": 0,
      "outputs": []
    },
    {
      "cell_type": "code",
      "metadata": {
        "id": "vIhzwL0aNPVr",
        "colab_type": "code",
        "outputId": "2bd31d71-08aa-44c8-bedb-07644a6b2056",
        "colab": {
          "base_uri": "https://localhost:8080/",
          "height": 435
        }
      },
      "source": [
        "inverse_hvp = get_inverse_hvp_lissa(sess, test_val, X_train, Y_train, v_cur_est, hessian_vector_val, batch_size=2, scale=10000,  recursion_depth=500, tolerance=1e-4)"
      ],
      "execution_count": 220,
      "outputs": [
        {
          "output_type": "stream",
          "text": [
            "-1.4828623e-20 -2.96571e-22 -4.4485822e-20\n",
            "Recursion at depth 0: norm is 0.05088032\n",
            "-1.4828623e-20 -6.1580225e-09 -6.1580164e-07\n",
            "Recursion at depth 50: norm is 1.74630582\n",
            "-1.4828623e-20 -6.1583805e-09 -6.1583745e-07\n",
            "Recursion at depth 100: norm is 3.43545747\n",
            "-1.4828623e-20 -6.1670438e-09 -6.1670374e-07\n",
            "Recursion at depth 150: norm is 5.09519053\n",
            "-1.4828623e-20 -6.178141e-09 -6.178135e-07\n",
            "Recursion at depth 200: norm is 6.78885126\n",
            "-1.4828623e-20 -6.183942e-09 -6.183936e-07\n",
            "Recursion at depth 250: norm is 8.48329353\n",
            "-1.4828623e-20 -6.1776335e-09 -6.1776274e-07\n",
            "Recursion at depth 300: norm is 10.15564823\n",
            "-1.4828623e-20 -1.23220865e-08 -1.2322074e-06\n",
            "Recursion at depth 350: norm is 11.82891655\n",
            "-1.4828623e-20 -1.3685122e-08 -1.3685109e-06\n",
            "Recursion at depth 400: norm is 13.51339340\n",
            "-1.4828623e-20 -1.4764138e-08 -1.4764124e-06\n",
            "Recursion at depth 450: norm is 15.20763588\n",
            "-1.4828623e-20 -1.4727465e-08 -1.472745e-06\n",
            "Recursion at depth 499: norm is 16.86409760\n",
            "Computing Inverse HVP took 0.0 minute 4.570656776428223 sec\n"
          ],
          "name": "stdout"
        }
      ]
    },
    {
      "cell_type": "markdown",
      "metadata": {
        "id": "R-C1eB21RIV5",
        "colab_type": "text"
      },
      "source": [
        "## by hvp"
      ]
    },
    {
      "cell_type": "code",
      "metadata": {
        "id": "Fye6m8vQs0WE",
        "colab_type": "code",
        "outputId": "1f49e9d5-ab46-4b0d-aa7c-754fb317c1ca",
        "colab": {
          "base_uri": "https://localhost:8080/",
          "height": 35
        }
      },
      "source": [
        "one_class = True\n",
        "\n",
        "if one_class == True:\n",
        "    s=time.time()\n",
        "    val_lissa=[]\n",
        "    for i in range(len(X_train)):\n",
        "        if np.argmax(Y_train[i])==np.argmax(Y_test[test_index]):\n",
        "            z_train=X_train[i].reshape((1,28,28,1))\n",
        "            z_train_label=Y_train[i].reshape((1,10))\n",
        "            train_grad_loss_val=sess.run(grad, feed_dict={X:z_train, Y:z_train_label})\n",
        "            val_lissa.append([i, -np.dot(np.concatenate(inverse_hvp), np.concatenate(train_grad_loss_val))])\n",
        "    duration = time.time() - s\n",
        "    print('Multiplying by %s train examples took %s minute %s sec' % (1, duration//60, duration%60))\n",
        "    val_lissa=sorted(val_lissa, key=lambda x: x[1])[::-1]\n",
        "else:\n",
        "    s=time.time()\n",
        "    val_lissa=[]\n",
        "    for i in range(len(X_train)):\n",
        "        z_train=X_train[i].reshape((1,28,28,1))\n",
        "        z_train_label=Y_train[i].reshape((1,10))\n",
        "        train_grad_loss_val=sess.run(grad, feed_dict={X:z_train, Y:z_train_label})\n",
        "        val_lissa.append([i, -np.dot(np.concatenate(inverse_hvp), np.concatenate(train_grad_loss_val))])\n",
        "    duration = time.time() - s\n",
        "    print('Multiplying by %s train examples took %s minute %s sec' % (1, duration//60, duration%60))\n",
        "    val_lissa=sorted(val_lissa, key=lambda x: x[1])[::-1]"
      ],
      "execution_count": 221,
      "outputs": [
        {
          "output_type": "stream",
          "text": [
            "Multiplying by 1 train examples took 0.0 minute 18.369544982910156 sec\n"
          ],
          "name": "stdout"
        }
      ]
    },
    {
      "cell_type": "markdown",
      "metadata": {
        "id": "x-QzxszMKqrb",
        "colab_type": "text"
      },
      "source": [
        "#  Pictures"
      ]
    },
    {
      "cell_type": "markdown",
      "metadata": {
        "id": "JKlAqeZwpSQL",
        "colab_type": "text"
      },
      "source": [
        "# only 1"
      ]
    },
    {
      "cell_type": "code",
      "metadata": {
        "id": "umznpPr6djtb",
        "colab_type": "code",
        "outputId": "0bb09051-00e0-47f9-9933-22710b21cfab",
        "colab": {
          "base_uri": "https://localhost:8080/",
          "height": 178
        }
      },
      "source": [
        "fig = plt.figure(figsize=(16, 4))\n",
        "for i in range(1, 8):\n",
        "    ax = plt.subplot(1, 7, i)\n",
        "    if i == 1:\n",
        "        plt.imshow(X_test[test_index].reshape(28,28),cmap='Greys',interpolation='nearest')\n",
        "        ax.set_title('Test_image')\n",
        "    elif i == 2:\n",
        "        plt.imshow(X_train[val_lissa[0][0]].reshape(28,28),cmap='Greys',interpolation='nearest')\n",
        "        ax.set_title('Positive_image1 label: %d'  %np.argmax(Y_train[val_lissa[0][0]]))\n",
        "    elif i == 3:\n",
        "        plt.imshow(X_train[val_lissa[1][0]].reshape(28,28),cmap='Greys',interpolation='nearest')\n",
        "        ax.set_title('Positive_image2 label: %d' %np.argmax(Y_train[val_lissa[1][0]]))\n",
        "    elif i == 4:\n",
        "        plt.imshow(X_train[val_lissa[2][0]].reshape(28,28),cmap='Greys',interpolation='nearest')\n",
        "        ax.set_title('Positive_image3 label: %d'  %np.argmax(Y_train[val_lissa[2][0]]))\n",
        "    elif i == 5:\n",
        "        plt.imshow(X_train[val_lissa[3][0]].reshape(28,28),cmap='Greys',interpolation='nearest')\n",
        "        ax.set_title('Positive_image4 label: %d'  %np.argmax(Y_train[val_lissa[3][0]]))\n",
        "    elif i == 6:\n",
        "        plt.imshow(X_train[val_lissa[4][0]].reshape(28,28),cmap='Greys',interpolation='nearest')\n",
        "        ax.set_title('Positive_image5 label: %d' %np.argmax(Y_train[val_lissa[4][0]]))\n",
        "    elif i == 7:\n",
        "        plt.imshow(X_train[val_lissa[5][0]].reshape(28,28),cmap='Greys',interpolation='nearest')\n",
        "        ax.set_title('Positive_image6 label: %d'  %np.argmax(Y_train[val_lissa[5][0]]))\n",
        "plt.tight_layout()\n",
        "plt.show()"
      ],
      "execution_count": 222,
      "outputs": [
        {
          "output_type": "display_data",
          "data": {
            "image/png": "[encoded data removed]",
            "text/plain": [
              "<Figure size 1152x288 with 7 Axes>"
            ]
          },
          "metadata": {
            "tags": []
          }
        }
      ]
    },
    {
      "cell_type": "code",
      "metadata": {
        "id": "KdrJAMssd8cO",
        "colab_type": "code",
        "outputId": "26825c6e-1c3d-456d-db28-587e62851b54",
        "colab": {
          "base_uri": "https://localhost:8080/",
          "height": 177
        }
      },
      "source": [
        "fig = plt.figure(figsize=(16, 4))\n",
        "for i in range(1, 8):\n",
        "    ax = plt.subplot(1, 7, i)\n",
        "    if i == 1:\n",
        "        plt.imshow(X_test[test_index].reshape(28,28),cmap='Greys',interpolation='nearest')\n",
        "        ax.set_title('Test_image')\n",
        "    elif i == 2:\n",
        "        plt.imshow(X_train[val_lissa[-1][0]].reshape(28,28),cmap='Greys',interpolation='nearest')\n",
        "        ax.set_title('Harmful_image1 label: %d' %np.argmax(Y_train[val_lissa[-1][0]]))\n",
        "    elif i == 3:\n",
        "        plt.imshow(X_train[val_lissa[-2][0]].reshape(28,28),cmap='Greys',interpolation='nearest')\n",
        "        ax.set_title('Harmful_image2 label: %d' %np.argmax(Y_train[val_lissa[-2][0]]))\n",
        "    elif i == 4:\n",
        "        plt.imshow(X_train[val_lissa[-3][0]].reshape(28,28),cmap='Greys',interpolation='nearest')\n",
        "        ax.set_title('Harmful_image3 label: %d' %np.argmax(Y_train[val_lissa[-3][0]]))\n",
        "    elif i == 5:\n",
        "        plt.imshow(X_train[val_lissa[-4][0]].reshape(28,28),cmap='Greys',interpolation='nearest')\n",
        "        ax.set_title('Harmful_image4 label: %d' %np.argmax(Y_train[val_lissa[-4][0]]))\n",
        "    elif i == 6:\n",
        "        plt.imshow(X_train[val_lissa[-5][0]].reshape(28,28),cmap='Greys',interpolation='nearest')\n",
        "        ax.set_title('Harmful_image5 label: %d' %np.argmax(Y_train[val_lissa[-5][0]]))\n",
        "    elif i == 7:\n",
        "        plt.imshow(X_train[val_lissa[-6][0]].reshape(28,28),cmap='Greys',interpolation='nearest')\n",
        "        ax.set_title('Harmful_image6 label: %d' %np.argmax(Y_train[val_lissa[-6][0]]))\n",
        "plt.tight_layout()\n",
        "plt.show()"
      ],
      "execution_count": 223,
      "outputs": [
        {
          "output_type": "display_data",
          "data": {
            "image/png": "[encoded data removed]",
            "text/plain": [
              "<Figure size 1152x288 with 7 Axes>"
            ]
          },
          "metadata": {
            "tags": []
          }
        }
      ]
    },
    {
      "cell_type": "markdown",
      "metadata": {
        "id": "VvtGffJ1pXmW",
        "colab_type": "text"
      },
      "source": [
        "# various classes"
      ]
    },
    {
      "cell_type": "code",
      "metadata": {
        "id": "jAszbVuipv3K",
        "colab_type": "code",
        "outputId": "bc1e03cb-8f97-474e-fb4f-7d954aa860fb",
        "colab": {
          "base_uri": "https://localhost:8080/",
          "height": 178
        }
      },
      "source": [
        "fig = plt.figure(figsize=(16, 4))\n",
        "for i in range(1, 8):\n",
        "    ax = plt.subplot(1, 7, i)\n",
        "    if i == 1:\n",
        "        plt.imshow(X_test[test_index].reshape(28,28),cmap='Greys',interpolation='nearest')\n",
        "        ax.set_title('Test_image')\n",
        "    elif i == 2:\n",
        "        plt.imshow(X_train[val_lissa[0][0]].reshape(28,28),cmap='Greys',interpolation='nearest')\n",
        "        ax.set_title('Positive_image1 label: %d'  %np.argmax(Y_train[val_lissa[0][0]]))\n",
        "    elif i == 3:\n",
        "        plt.imshow(X_train[val_lissa[1][0]].reshape(28,28),cmap='Greys',interpolation='nearest')\n",
        "        ax.set_title('Positive_image2 label: %d' %np.argmax(Y_train[val_lissa[1][0]]))\n",
        "    elif i == 4:\n",
        "        plt.imshow(X_train[val_lissa[2][0]].reshape(28,28),cmap='Greys',interpolation='nearest')\n",
        "        ax.set_title('Positive_image3 label: %d'  %np.argmax(Y_train[val_lissa[2][0]]))\n",
        "    elif i == 5:\n",
        "        plt.imshow(X_train[val_lissa[3][0]].reshape(28,28),cmap='Greys',interpolation='nearest')\n",
        "        ax.set_title('Positive_image4 label: %d'  %np.argmax(Y_train[val_lissa[3][0]]))\n",
        "    elif i == 6:\n",
        "        plt.imshow(X_train[val_lissa[4][0]].reshape(28,28),cmap='Greys',interpolation='nearest')\n",
        "        ax.set_title('Positive_image5 label: %d' %np.argmax(Y_train[val_lissa[4][0]]))\n",
        "    elif i == 7:\n",
        "        plt.imshow(X_train[val_lissa[5][0]].reshape(28,28),cmap='Greys',interpolation='nearest')\n",
        "        ax.set_title('Positive_image6 label: %d'  %np.argmax(Y_train[val_lissa[5][0]]))\n",
        "plt.tight_layout()\n",
        "plt.show()"
      ],
      "execution_count": 0,
      "outputs": [
        {
          "output_type": "display_data",
          "data": {
            "image/png": "[encoded data removed]",
            "text/plain": [
              "<Figure size 1152x288 with 7 Axes>"
            ]
          },
          "metadata": {
            "tags": []
          }
        }
      ]
    },
    {
      "cell_type": "code",
      "metadata": {
        "id": "GBhoIoCkpv6X",
        "colab_type": "code",
        "outputId": "db12bb87-d28e-4bd4-8b34-862f4684a21e",
        "colab": {
          "base_uri": "https://localhost:8080/",
          "height": 177
        }
      },
      "source": [
        "fig = plt.figure(figsize=(16, 4))\n",
        "for i in range(1, 8):\n",
        "    ax = plt.subplot(1, 7, i)\n",
        "    if i == 1:\n",
        "        plt.imshow(X_test[test_index].reshape(28,28),cmap='Greys',interpolation='nearest')\n",
        "        ax.set_title('Test_image')\n",
        "    elif i == 2:\n",
        "        plt.imshow(X_train[val_lissa[-1][0]].reshape(28,28),cmap='Greys',interpolation='nearest')\n",
        "        ax.set_title('Harmful_image1 label: %d' %np.argmax(Y_train[val_lissa[-1][0]]))\n",
        "    elif i == 3:\n",
        "        plt.imshow(X_train[val_lissa[-2][0]].reshape(28,28),cmap='Greys',interpolation='nearest')\n",
        "        ax.set_title('Harmful_image2 label: %d' %np.argmax(Y_train[val_lissa[-2][0]]))\n",
        "    elif i == 4:\n",
        "        plt.imshow(X_train[val_lissa[-3][0]].reshape(28,28),cmap='Greys',interpolation='nearest')\n",
        "        ax.set_title('Harmful_image3 label: %d' %np.argmax(Y_train[val_lissa[-3][0]]))\n",
        "    elif i == 5:\n",
        "        plt.imshow(X_train[val_lissa[-4][0]].reshape(28,28),cmap='Greys',interpolation='nearest')\n",
        "        ax.set_title('Harmful_image4 label: %d' %np.argmax(Y_train[val_lissa[-4][0]]))\n",
        "    elif i == 6:\n",
        "        plt.imshow(X_train[val_lissa[-5][0]].reshape(28,28),cmap='Greys',interpolation='nearest')\n",
        "        ax.set_title('Harmful_image5 label: %d' %np.argmax(Y_train[val_lissa[-5][0]]))\n",
        "    elif i == 7:\n",
        "        plt.imshow(X_train[val_lissa[-6][0]].reshape(28,28),cmap='Greys',interpolation='nearest')\n",
        "        ax.set_title('Harmful_image6 label: %d' %np.argmax(Y_train[val_lissa[-6][0]]))\n",
        "plt.tight_layout()\n",
        "plt.show()"
      ],
      "execution_count": 0,
      "outputs": [
        {
          "output_type": "display_data",
          "data": {
            "image/png": "[encoded data removed]",
            "text/plain": [
              "<Figure size 1152x288 with 7 Axes>"
            ]
          },
          "metadata": {
            "tags": []
          }
        }
      ]
    }
  ]
}