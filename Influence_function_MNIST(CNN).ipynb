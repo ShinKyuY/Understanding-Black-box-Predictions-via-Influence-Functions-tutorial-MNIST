{
  "nbformat": 4,
  "nbformat_minor": 0,
  "metadata": {
    "colab": {
      "name": "Influence_function_MNIST(CNN).ipynb",
      "provenance": [],
      "collapsed_sections": []
    },
    "kernelspec": {
      "name": "python3",
      "display_name": "Python 3"
    },
    "accelerator": "GPU"
  },
  "cells": [
    {
      "cell_type": "code",
      "metadata": {
        "id": "drio6jhUs0Vw",
        "colab_type": "code",
        "colab": {}
      },
      "source": [
        "import tensorflow as tf\n",
        "from IPython.display import Image\n",
        "from tensorflow.python.framework import ops\n",
        "from tensorflow.python.ops import array_ops\n",
        "from tensorflow.python.ops import math_ops\n",
        "import time\n",
        "import numpy as np\n",
        "import matplotlib.pyplot as plt\n",
        "from tensorflow.examples.tutorials.mnist import input_data\n"
      ],
      "execution_count": 0,
      "outputs": []
    },
    {
      "cell_type": "code",
      "metadata": {
        "id": "6Gt3ZYiXLDxa",
        "colab_type": "code",
        "colab": {}
      },
      "source": [
        "(X_train, Y_train), (X_test, Y_test) = tf.keras.datasets.mnist.load_data()"
      ],
      "execution_count": 0,
      "outputs": []
    },
    {
      "cell_type": "code",
      "metadata": {
        "id": "r8-FG_mYLPcn",
        "colab_type": "code",
        "colab": {}
      },
      "source": [
        "def one_hot(x, zero_index=True):\n",
        "    if zero_index:\n",
        "        return np.eye(max(x)+1)[x]\n",
        "    else:\n",
        "        return np.eye(max(x))[x]\n",
        "def normalize(x):\n",
        "    return (x.astype(np.float32) - 127.5)/127.5"
      ],
      "execution_count": 0,
      "outputs": []
    },
    {
      "cell_type": "code",
      "metadata": {
        "id": "SVpzwX1Os0Vz",
        "colab_type": "code",
        "colab": {}
      },
      "source": [
        "X_train = normalize(X_train)\n",
        "X_test = normalize(X_test)\n",
        "X_train = np.expand_dims(X_train, -1)\n",
        "X_test = np.expand_dims(X_test, -1)"
      ],
      "execution_count": 0,
      "outputs": []
    },
    {
      "cell_type": "code",
      "metadata": {
        "id": "LEVlWH9QLDL6",
        "colab_type": "code",
        "outputId": "cdb1da2e-7077-4805-eb80-30631e9f73da",
        "colab": {
          "base_uri": "https://localhost:8080/",
          "height": 84
        }
      },
      "source": [
        "Y_train = one_hot(Y_train)\n",
        "Y_test = one_hot(Y_test)\n",
        "# X_train = X_train.reshape((-1, 784))\n",
        "# X_test = X_test.reshape((-1, 784))\n",
        "print('X_train shape:', X_train.shape)\n",
        "print('Y_train shape:', Y_train.shape)\n",
        "print('X_test shape:', X_test.shape)\n",
        "print('Y_test shape:', Y_test.shape)"
      ],
      "execution_count": 94,
      "outputs": [
        {
          "output_type": "stream",
          "text": [
            "X_train shape: (60000, 28, 28, 1)\n",
            "Y_train shape: (60000, 10)\n",
            "X_test shape: (10000, 28, 28, 1)\n",
            "Y_test shape: (10000, 10)\n"
          ],
          "name": "stdout"
        }
      ]
    },
    {
      "cell_type": "code",
      "metadata": {
        "id": "06WqBHVPs0V4",
        "colab_type": "code",
        "colab": {}
      },
      "source": [
        "def smooth_hinge_loss(logits, labels, t=1e-3, dty=tf.float64):\n",
        "    margin=tf.multiply(tf.cast(labels, dtype=dty), logits) \n",
        "    exponents = (1-margin)/t\n",
        "    max_elems = tf.maximum(exponents, tf.zeros_like(exponents))\n",
        "    log_loss= t * (max_elems + tf.log(tf.exp(exponents - max_elems) \n",
        "                                      + tf.exp(tf.zeros_like(exponents) - max_elems)))\n",
        "    return tf.reduce_mean(log_loss) \n",
        "\n",
        "\n",
        "\n",
        "\n",
        "def hinge_loss(logits, labels, dty=tf.float64):\n",
        "    margin=tf.multiply(tf.cast(labels, dtype=dty), logits) \n",
        "    log_loss= tf.maximum(tf.constant(0,dtype=dty), 1-margin)\n",
        "    return tf.reduce_mean(log_loss) \n",
        "\n",
        "\n",
        "def accuracy_op(logits, labels):\n",
        "    correct_prediction = tf.equal(tf.cast(tf.argmax(logits, 1), tf.int32), tf.cast(tf.argmax(labels, 1), tf.int32))\n",
        "    accuracy = tf.reduce_sum(tf.cast(correct_prediction, tf.int32))\n",
        "    return accuracy\n",
        "\n",
        "def hessian_vector_product(ys, xs, v):\n",
        "    # Validate the input\n",
        "    length = len(xs)\n",
        "    if len(v) != length:\n",
        "      raise ValueError(\"xs and v must have the same length.\")\n",
        "\n",
        "    # First backprop\n",
        "    grads = tf.gradients(ys, xs)\n",
        "\n",
        "    # grads = xs\n",
        "\n",
        "    assert len(grads) == length\n",
        "\n",
        "    elemwise_products = [\n",
        "        math_ops.multiply(grad_elem, array_ops.stop_gradient(v_elem))\n",
        "        for grad_elem, v_elem in zip(grads, v) if grad_elem is not None\n",
        "    ]\n",
        "\n",
        "    # Second backprop  \n",
        "    grads_with_none = tf.gradients(elemwise_products, xs)\n",
        "    return_grads = [\n",
        "        grad_elem if grad_elem is not None \\\n",
        "        else tf.zeros_like(x) \\\n",
        "        for x, grad_elem in zip(xs, grads_with_none)]\n",
        "    \n",
        "    return return_grads"
      ],
      "execution_count": 0,
      "outputs": []
    },
    {
      "cell_type": "code",
      "metadata": {
        "id": "glGiB7VwynPL",
        "colab_type": "code",
        "colab": {}
      },
      "source": [
        "def conv2d(x, W, r):\n",
        "    # convolve through reflect padding\n",
        "    p = (W.shape[0] - 1) // 2\n",
        "    x = tf.pad(x, [[0,0],[p,p],[p,p],[0,0]], 'REFLECT')\n",
        "    return tf.nn.conv2d(x, W, strides=[1, r, r, 1], padding='VALID')"
      ],
      "execution_count": 0,
      "outputs": []
    },
    {
      "cell_type": "code",
      "metadata": {
        "id": "00jZgWFJnskj",
        "colab_type": "code",
        "colab": {}
      },
      "source": [
        "def log_softmax_CE(L, y):\n",
        "    # calculate loss for the loss function and L2 regularizer\n",
        "    L_max = tf.reduce_max(L, axis = 1, keepdims = True)\n",
        "    L = L-L_max\n",
        "    # compute log softmax\n",
        "    A = tf.log(tf.reduce_sum(tf.exp(L), axis = 1))\n",
        "    B = tf.reduce_sum(L*y, axis=1)\n",
        "    loss = tf.reduce_sum(A-B)\n",
        "    return loss"
      ],
      "execution_count": 0,
      "outputs": []
    },
    {
      "cell_type": "code",
      "metadata": {
        "id": "dYxZLZo2U7mH",
        "colab_type": "code",
        "colab": {}
      },
      "source": [
        "def normalize_vector(v):\n",
        "    \"\"\"\n",
        "    Takes in a vector in list form, concatenates it to form a single vector,\n",
        "    normalizes it to unit length, then returns it in list form together with its norm.\n",
        "    \"\"\"\n",
        "    norm_val = np.linalg.norm(np.concatenate(v))\n",
        "    norm_v = [a/norm_val for a in v]\n",
        "    return norm_v"
      ],
      "execution_count": 0,
      "outputs": []
    },
    {
      "cell_type": "code",
      "metadata": {
        "id": "i8_JoVgqcj_z",
        "colab_type": "code",
        "colab": {}
      },
      "source": [
        "tf.reset_default_graph()\n",
        "nb_clases=10\n",
        "dty=tf.float32\n",
        "scale_hess=1e0\n",
        "damping=1e-2\n",
        "batch=len(X_test)//512\n",
        "\n",
        "w1=tf.get_variable('w1', [3*3*1*64], initializer=tf.truncated_normal_initializer(stddev=1.0/np.math.sqrt(float(3*3*1*64)), dtype=dty))\n",
        "w2=tf.get_variable('w2', [3*3*64*64], initializer=tf.truncated_normal_initializer(stddev=1.0/np.math.sqrt(float(3*3*64*64)), dtype=dty))\n",
        "w3=tf.get_variable('w3', [3*3*64*64], initializer=tf.truncated_normal_initializer(stddev=1.0/np.math.sqrt(float(3*3*64*64)), dtype=dty))\n",
        "w4=tf.get_variable('w4', [4*4*64*10], initializer=tf.truncated_normal_initializer(stddev=1.0/np.math.sqrt(float(4*4*64*10)), dtype=dty))\n",
        "params=[w1, w2, w3, w4]\n",
        "v_cur_est = [tf.placeholder(dty, shape=(param.shape[0])) for param in params]\n",
        "####################### Layer ######################\n",
        "X = tf.placeholder(dty, [None, 28, 28, 1],name=\"X\")\n",
        "Y = tf.placeholder(dty,[None, nb_clases],name=\"Y\")\n",
        "L = conv2d(X, tf.reshape(w1, [3,3,1,64]), 2)\n",
        "L = tf.nn.tanh(L)\n",
        "L = conv2d(L, tf.reshape(w2, [3,3,64,64]), 2)\n",
        "L = tf.nn.tanh(L)\n",
        "L = conv2d(L, tf.reshape(w3, [3,3,64,64]), 2)\n",
        "L = tf.nn.tanh(L)\n",
        "L = tf.reshape(L, [-1, 4*4*64])\n",
        "L = tf.matmul(L, tf.reshape(w4, [4*4*64, 10]))\n",
        "prob = tf.nn.log_softmax(L)\n",
        "###################################################\n",
        "####################### Loss ######################\n",
        "lossL2 = damping*tf.add_n([tf.nn.l2_loss(param) for param in params])\n",
        "loss = log_softmax_CE(L, Y)\n",
        "total_loss = loss + lossL2\n",
        "grad = tf.gradients(total_loss, params)\n",
        "test_grad = tf.gradients(loss, params)\n",
        "hessian = tf.hessians(total_loss, w4)\n",
        "hess_inv = tf.linalg.inv(hessian)\n",
        "hessian_vector_val=hessian_vector_product(total_loss, params, v_cur_est)\n",
        "########################  H inverse ######################## \n",
        "################################################\n",
        "train_op = tf.train.AdamOptimizer(1e-2).minimize(total_loss)\n",
        "accuracy=accuracy_op(L, Y)\n",
        "sess=tf.Session()\n",
        "sess.run(tf.global_variables_initializer())"
      ],
      "execution_count": 0,
      "outputs": []
    },
    {
      "cell_type": "code",
      "metadata": {
        "id": "G5x9SJCqb8pv",
        "colab_type": "code",
        "outputId": "a09918d1-9924-4971-a840-99024b67af35",
        "colab": {
          "base_uri": "https://localhost:8080/",
          "height": 67
        }
      },
      "source": [
        "for epoch in range(151):\n",
        "    for i in range(batch):\n",
        "        batch_xs, batch_ys = X_train[i*512:(i+1)*512], Y_train[i*512:(i+1)*512]\n",
        "        _=sess.run(train_op, feed_dict={X:batch_xs, Y:batch_ys})  \n",
        "    if epoch%50==0 and epoch>0:\n",
        "        c = sess.run(accuracy, feed_dict={X:batch_xs, Y:batch_ys})\n",
        "        a = sess.run(accuracy, feed_dict={X:X_test, Y:Y_test})\n",
        "        print(' Train accuracy: ',c/len(batch_xs), 'Test accuracy: ',a/len(X_test), )\n"
      ],
      "execution_count": 19,
      "outputs": [
        {
          "output_type": "stream",
          "text": [
            " Train accuracy:  1.0 Test accuracy:  0.9672\n",
            " Train accuracy:  1.0 Test accuracy:  0.9684\n",
            " Train accuracy:  1.0 Test accuracy:  0.9695\n"
          ],
          "name": "stdout"
        }
      ]
    },
    {
      "cell_type": "markdown",
      "metadata": {
        "id": "9CDI_lQLKV0g",
        "colab_type": "text"
      },
      "source": [
        "# IHVP "
      ]
    },
    {
      "cell_type": "markdown",
      "metadata": {
        "id": "PtqlLjXTKi6o",
        "colab_type": "text"
      },
      "source": [
        "## Numpy direct IHVP"
      ]
    },
    {
      "cell_type": "code",
      "metadata": {
        "id": "l6169p4mLvCx",
        "colab_type": "code",
        "outputId": "037464ee-5089-4906-94b9-71ebcb0aa822",
        "colab": {
          "base_uri": "https://localhost:8080/",
          "height": 34
        }
      },
      "source": [
        "test_index=191\n",
        "z_test=X_test[test_index].reshape((1,28,28,1))\n",
        "z_test_label=Y_test[test_index].reshape((1,10))\n",
        "# test_val=sess.run(grad, feed_dict={X:z_test, Y:z_test_label})\n",
        "test_val=sess.run(test_grad, feed_dict={X:z_test, Y:z_test_label})\n",
        "print('Norm of test gradient: %s' % np.linalg.norm(np.concatenate(test_val)))"
      ],
      "execution_count": 71,
      "outputs": [
        {
          "output_type": "stream",
          "text": [
            "Norm of test gradient: 0.015250304\n"
          ],
          "name": "stdout"
        }
      ]
    },
    {
      "cell_type": "code",
      "metadata": {
        "id": "I0LzpStk5wyK",
        "colab_type": "code",
        "outputId": "bde826a6-7266-44e7-a9d1-9a604ab7b069",
        "colab": {
          "base_uri": "https://localhost:8080/",
          "height": 265
        }
      },
      "source": [
        "plt.imshow(X_test[test_index].reshape(28,28),cmap='Greys',interpolation='nearest')\n",
        "plt.show()"
      ],
      "execution_count": 72,
      "outputs": [
        {
          "output_type": "display_data",
          "data": {
            "image/png": "[encoded data removed]",
            "text/plain": [
              "<Figure size 432x288 with 1 Axes>"
            ]
          },
          "metadata": {
            "tags": []
          }
        }
      ]
    },
    {
      "cell_type": "markdown",
      "metadata": {
        "id": "LsuM-AsHKleB",
        "colab_type": "text"
      },
      "source": [
        "## HVPs+Lissa"
      ]
    },
    {
      "cell_type": "code",
      "metadata": {
        "id": "zpZsJB45MhOL",
        "colab_type": "code",
        "colab": {}
      },
      "source": [
        "def get_inverse_hvp_lissa(sess, v, X, Y, v_cur_est, hessian_vector_val, batch_size=None, \n",
        "                          scale=10, damping=0.0, num_samples=1, recursion_depth=10000):\n",
        "    \"\"\"\n",
        "    This uses mini-batching; uncomment code for the single sample case.\n",
        "    \"\"\"    \n",
        "    inverse_hvp = None\n",
        "    print_iter = recursion_depth / 10\n",
        "    start_time = time.time()\n",
        "    r=np.random.randint(len(X_train), size=[num_samples])\n",
        "    batch_xs = X[r]\n",
        "    batch_ys = Y[r]\n",
        "    prev_norm=10\n",
        "    for i in range(num_samples):\n",
        "        cur_estimate = v\n",
        "        for j in range(recursion_depth):\n",
        "            feed_dict = {place:cur for place, cur in zip(v_cur_est, cur_estimate)}\n",
        "            hvp = sess.run(hessian_vector_val, feed_dict={X:batch_xs[i:i+1], Y:batch_ys[i:i+1], **feed_dict})\n",
        "            cur_estimate = [a + (1-damping/scale) * b - c/scale for (a,b,c) in zip(v, cur_estimate, hvp)]    \n",
        "\n",
        "        if (i %  int(num_samples/10) == 0) or (i==num_samples-1):\n",
        "            cur_norm = np.linalg.norm(np.concatenate(cur_estimate))\n",
        "            print(\"Recursion at depth %s: norm is %.8lf\" % (j, cur_norm))\n",
        "\n",
        "        if inverse_hvp is None:\n",
        "            inverse_hvp = [b/scale for b in cur_estimate]\n",
        "        else:\n",
        "            inverse_hvp = [a + b/scale for (a, b) in zip(inverse_hvp, cur_estimate)]  \n",
        "\n",
        "    inverse_hvp = [a/num_samples for a in inverse_hvp]\n",
        "    duration = time.time() - start_time\n",
        "    print('Inverse HVP by HVPs+Lissa: took %s minute %s sec' % (duration//60, duration%60))   \n",
        "    return inverse_hvp"
      ],
      "execution_count": 0,
      "outputs": []
    },
    {
      "cell_type": "code",
      "metadata": {
        "id": "vIhzwL0aNPVr",
        "colab_type": "code",
        "outputId": "de7c5658-4276-4c83-d351-6aa8bc47833f",
        "colab": {
          "base_uri": "https://localhost:8080/",
          "height": 235
        }
      },
      "source": [
        "inverse_hvp = get_inverse_hvp_lissa(sess, test_val, X_train, Y_train, v_cur_est, hessian_vector_val, scale=10000,  damping=0.00, num_samples=512, recursion_depth=50)"
      ],
      "execution_count": 74,
      "outputs": [
        {
          "output_type": "stream",
          "text": [
            "Recursion at depth 49: norm is 0.77773404\n",
            "Recursion at depth 49: norm is 0.77709579\n",
            "Recursion at depth 49: norm is 0.77774602\n",
            "Recursion at depth 49: norm is 0.77731210\n",
            "Recursion at depth 49: norm is 0.77774584\n",
            "Recursion at depth 49: norm is 0.77760029\n",
            "Recursion at depth 49: norm is 0.76627398\n",
            "Recursion at depth 49: norm is 0.77774358\n",
            "Recursion at depth 49: norm is 0.77774543\n",
            "Recursion at depth 49: norm is 0.77772480\n",
            "Recursion at depth 49: norm is 0.77772760\n",
            "Recursion at depth 49: norm is 0.77774465\n",
            "Inverse HVP by HVPs+Lissa: took 3.0 minute 33.35926842689514 sec\n"
          ],
          "name": "stdout"
        }
      ]
    },
    {
      "cell_type": "code",
      "metadata": {
        "id": "QBWEHI1Djqz2",
        "colab_type": "code",
        "colab": {
          "base_uri": "https://localhost:8080/",
          "height": 50
        },
        "outputId": "0eee7465-1938-40d8-a4ea-00ca43c5160a"
      },
      "source": [
        "inverse_hvp[3]"
      ],
      "execution_count": 75,
      "outputs": [
        {
          "output_type": "execute_result",
          "data": {
            "text/plain": [
              "array([ 9.5727393e-10,  2.1417915e-07, -1.9601590e-08, ...,\n",
              "       -2.4708539e-08, -1.0329779e-07, -7.6295680e-07], dtype=float32)"
            ]
          },
          "metadata": {
            "tags": []
          },
          "execution_count": 75
        }
      ]
    },
    {
      "cell_type": "markdown",
      "metadata": {
        "id": "R-C1eB21RIV5",
        "colab_type": "text"
      },
      "source": [
        "## by hvp"
      ]
    },
    {
      "cell_type": "code",
      "metadata": {
        "id": "Fye6m8vQs0WE",
        "colab_type": "code",
        "outputId": "b1f8d64c-b58b-448e-ac36-066f8eb511bc",
        "colab": {
          "base_uri": "https://localhost:8080/",
          "height": 34
        }
      },
      "source": [
        "one_class = True\n",
        "\n",
        "if one_class == True:\n",
        "    s=time.time()\n",
        "    val_lissa=[]\n",
        "    for i in range(len(X_train)):\n",
        "        if np.argmax(Y_train[i])==np.argmax(Y_test[test_index]):\n",
        "            z_train=X_train[i].reshape((1,28,28,1))\n",
        "            z_train_label=Y_train[i].reshape((1,10))\n",
        "            train_grad_loss_val=sess.run(grad, feed_dict={X:z_train, Y:z_train_label})\n",
        "            val_lissa.append([i, np.dot(np.concatenate(inverse_hvp), np.concatenate(train_grad_loss_val))])\n",
        "    duration = time.time() - s\n",
        "    print('Multiplying by %s train examples took %s minute %s sec' % (1, duration//60, duration%60))\n",
        "    val_lissa=sorted(val_lissa, key=lambda x: x[1])[::-1]\n",
        "else:\n",
        "    s=time.time()\n",
        "    val_lissa=[]\n",
        "    for i in range(len(X_train)):\n",
        "        z_train=X_train[i].reshape((1,28,28,1))\n",
        "        z_train_label=Y_train[i].reshape((1,10))\n",
        "        train_grad_loss_val=sess.run(grad, feed_dict={X:z_train, Y:z_train_label})\n",
        "        val_lissa.append([i, np.dot(np.concatenate(inverse_hvp), np.concatenate(train_grad_loss_val))])\n",
        "    duration = time.time() - s\n",
        "    print('Multiplying by %s train examples took %s minute %s sec' % (1, duration//60, duration%60))\n",
        "    val_lissa=sorted(val_lissa, key=lambda x: x[1])[::-1]"
      ],
      "execution_count": 101,
      "outputs": [
        {
          "output_type": "stream",
          "text": [
            "Multiplying by 1 train examples took 0.0 minute 29.064437866210938 sec\n"
          ],
          "name": "stdout"
        }
      ]
    },
    {
      "cell_type": "markdown",
      "metadata": {
        "id": "x-QzxszMKqrb",
        "colab_type": "text"
      },
      "source": [
        "#  Pictures"
      ]
    },
    {
      "cell_type": "code",
      "metadata": {
        "id": "1SIJc4YVoIIU",
        "colab_type": "code",
        "outputId": "65b69e34-f413-482e-b62d-d9829a27f4ce",
        "colab": {
          "base_uri": "https://localhost:8080/",
          "height": 50
        }
      },
      "source": [
        "print(val_lissa[0][0], val_lissa[1][0], val_lissa[2][0], val_lissa[3][0], val_lissa[4][0], val_lissa[5][0])\n",
        "print(val_lissa[-1][0], val_lissa[-2][0], val_lissa[-3][0], val_lissa[-4][0], val_lissa[-5][0], val_lissa[-6][0])\n",
        "val=val_lissa"
      ],
      "execution_count": 102,
      "outputs": [
        {
          "output_type": "stream",
          "text": [
            "38700 47291 31727 37038 47022 37816\n",
            "5859 11765 20319 57243 40651 57453\n"
          ],
          "name": "stdout"
        }
      ]
    },
    {
      "cell_type": "code",
      "metadata": {
        "id": "uLShsGEL7g2q",
        "colab_type": "code",
        "outputId": "d4e8d062-0683-4db6-9d46-316cde6b26de",
        "colab": {
          "base_uri": "https://localhost:8080/",
          "height": 101
        }
      },
      "source": [
        "val[:5]"
      ],
      "execution_count": 103,
      "outputs": [
        {
          "output_type": "execute_result",
          "data": {
            "text/plain": [
              "[[38700, 0.0023798887],\n",
              " [47291, 0.0023389691],\n",
              " [31727, 0.002016752],\n",
              " [37038, 0.0019895479],\n",
              " [47022, 0.001983365]]"
            ]
          },
          "metadata": {
            "tags": []
          },
          "execution_count": 103
        }
      ]
    },
    {
      "cell_type": "code",
      "metadata": {
        "id": "ugX3OEeK1o2n",
        "colab_type": "code",
        "outputId": "ebc5b7fc-fc08-47d1-d922-821b114b172f",
        "colab": {
          "base_uri": "https://localhost:8080/",
          "height": 101
        }
      },
      "source": [
        "val[-5:]"
      ],
      "execution_count": 104,
      "outputs": [
        {
          "output_type": "execute_result",
          "data": {
            "text/plain": [
              "[[40651, -2.8198838e-07],\n",
              " [57243, -2.8203863e-07],\n",
              " [20319, -2.8209394e-07],\n",
              " [11765, -2.8215078e-07],\n",
              " [5859, -2.8222945e-07]]"
            ]
          },
          "metadata": {
            "tags": []
          },
          "execution_count": 104
        }
      ]
    },
    {
      "cell_type": "code",
      "metadata": {
        "id": "CYKDq8BEbqQb",
        "colab_type": "code",
        "outputId": "35470bd9-70c6-4452-c88f-6f1cea4e8ab3",
        "colab": {
          "base_uri": "https://localhost:8080/",
          "height": 197
        }
      },
      "source": [
        "fig = plt.figure(figsize=(16, 4))\n",
        "for i in range(1, 8):\n",
        "    ax = plt.subplot(1, 7, i)\n",
        "    if i == 1:\n",
        "        plt.imshow(X_test[test_index].reshape(28,28),cmap='Greys',interpolation='nearest')\n",
        "        ax.set_title('Test_image')\n",
        "    elif i == 2:\n",
        "        plt.imshow(X_train[val[-1][0]].reshape(28,28),cmap='Greys',interpolation='nearest')\n",
        "        ax.set_title('Positive_image1')\n",
        "    elif i == 3:\n",
        "        plt.imshow(X_train[val[-2][0]].reshape(28,28),cmap='Greys',interpolation='nearest')\n",
        "        ax.set_title('Positive_image2')\n",
        "    elif i == 4:\n",
        "        plt.imshow(X_train[val[-3][0]].reshape(28,28),cmap='Greys',interpolation='nearest')\n",
        "        ax.set_title('Positive_image3')\n",
        "    elif i == 5:\n",
        "        plt.imshow(X_train[val[-4][0]].reshape(28,28),cmap='Greys',interpolation='nearest')\n",
        "        ax.set_title('Positive_image4')\n",
        "    elif i == 6:\n",
        "        plt.imshow(X_train[val[-5][0]].reshape(28,28),cmap='Greys',interpolation='nearest')\n",
        "        ax.set_title('Positive_image5')\n",
        "    elif i == 7:\n",
        "        plt.imshow(X_train[val[-6][0]].reshape(28,28),cmap='Greys',interpolation='nearest')\n",
        "        ax.set_title('Positive_image6')\n",
        "plt.tight_layout()\n",
        "plt.show()"
      ],
      "execution_count": 105,
      "outputs": [
        {
          "output_type": "display_data",
          "data": {
            "image/png": "[encoded data removed]",
            "text/plain": [
              "<Figure size 1152x288 with 7 Axes>"
            ]
          },
          "metadata": {
            "tags": []
          }
        }
      ]
    },
    {
      "cell_type": "code",
      "metadata": {
        "id": "pfF1DZLb9EUF",
        "colab_type": "code",
        "outputId": "2092cd08-d91c-46a9-8a63-9b156c9b8550",
        "colab": {
          "base_uri": "https://localhost:8080/",
          "height": 197
        }
      },
      "source": [
        "fig = plt.figure(figsize=(16, 4))\n",
        "for i in range(1, 8):\n",
        "    ax = plt.subplot(1, 7, i)\n",
        "    if i == 1:\n",
        "        plt.imshow(X_test[test_index].reshape(28,28),cmap='Greys',interpolation='nearest')\n",
        "        ax.set_title('Test_image')\n",
        "    elif i == 2:\n",
        "        plt.imshow(X_train[val[0][0]].reshape(28,28),cmap='Greys',interpolation='nearest')\n",
        "        ax.set_title('Harmful_image1')\n",
        "    elif i == 3:\n",
        "        plt.imshow(X_train[val[1][0]].reshape(28,28),cmap='Greys',interpolation='nearest')\n",
        "        ax.set_title('Harmful_image2')\n",
        "    elif i == 4:\n",
        "        plt.imshow(X_train[val[2][0]].reshape(28,28),cmap='Greys',interpolation='nearest')\n",
        "        ax.set_title('Harmful_image3')\n",
        "    elif i == 5:\n",
        "        plt.imshow(X_train[val[3][0]].reshape(28,28),cmap='Greys',interpolation='nearest')\n",
        "        ax.set_title('Harmful_image4')\n",
        "    elif i == 6:\n",
        "        plt.imshow(X_train[val[4][0]].reshape(28,28),cmap='Greys',interpolation='nearest')\n",
        "        ax.set_title('Harmful_image5')\n",
        "    elif i == 7:\n",
        "        plt.imshow(X_train[val[5][0]].reshape(28,28),cmap='Greys',interpolation='nearest')\n",
        "        ax.set_title('Harmful_image6')\n",
        "plt.tight_layout()\n",
        "plt.show()"
      ],
      "execution_count": 106,
      "outputs": [
        {
          "output_type": "display_data",
          "data": {
            "image/png": "[encoded data removed]",
            "text/plain": [
              "<Figure size 1152x288 with 7 Axes>"
            ]
          },
          "metadata": {
            "tags": []
          }
        }
      ]
    },
    {
      "cell_type": "code",
      "metadata": {
        "id": "eACa-FX-7NeJ",
        "colab_type": "code",
        "colab": {}
      },
      "source": [
        ""
      ],
      "execution_count": 0,
      "outputs": []
    }
  ]
}